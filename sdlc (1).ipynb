{
  "cells": [
    {
      "cell_type": "markdown",
      "metadata": {
        "id": "nSUc_jbQ8el-"
      },
      "source": [
        "  1 ans.\n",
        "  \n",
        "  sdlc means are Software Development  Life Cycle, is a systematic process for planning, creating,  testing, and deploying software applications. It consists of several distinct phases, each contributing to the overall  success and quality of the  software  product.\n",
        "  \n",
        "\n",
        " 1. waterfall model.\n",
        "\n",
        " It is the fundamental model of the  software development life cycle. This is a very simple model. The waterfall  model is not in practice anymore, but it is the basis for all other SDLC models.  Because of its simple structure, the waterfall model is easier to use and  provides a tangible output. In the waterfall model, once a phase   seems to be completed, it cannot be changed, and due to this less  flexible nature, the waterfall model is not in practice   anymore.\n",
        "\n",
        " 2. agile model.\n",
        "\n",
        "The agile model in SDLC was mainly designed  to adapt to changing requests quickly. The main goal of the Agile  model is to facilitate quick project completion. The agile model  refers to a group of development processes. These processes have  some similar characteristics but also possess certain subtle\n",
        " differences among themselves.\n",
        "\n",
        "3. iterative model.\n",
        "\n",
        "In the Iterative model in SDLC, each cycle results in a semi-developed but deployable version; with each cycle, some requirements are added  to the software, and the final cycle results in the software   with the complete requirement  specification.\n",
        "\n",
        "\n",
        "\n"
      ]
    },
    {
      "cell_type": "code",
      "execution_count": null,
      "metadata": {
        "id": "gSaI_NBuC9kU"
      },
      "outputs": [],
      "source": []
    },
    {
      "cell_type": "markdown",
      "metadata": {
        "id": "4ptx_he3CxLg"
      },
      "source": [
        "2 ans.\n",
        "\n",
        "A matrix is a mathematical concept defined as a rectangular array of numbers, symbols, or expressions, arranged in rows and columns. Matrices are fundamental in various fields, including mathematics, physics, engineering, computer science, and statistics, serving as powerful tools for solving problems, particularly those involving linear equations and transformations.\n",
        "\n",
        "\n"
      ]
    },
    {
      "cell_type": "markdown",
      "metadata": {
        "id": "0PmEdEQiDWd6"
      },
      "source": [
        "Types of Matrices\n"
      ]
    },
    {
      "cell_type": "markdown",
      "metadata": {
        "id": "sufFTnAMDqPZ"
      },
      "source": [
        " 1.Row Matrix: A matrix with only one row\n"
      ]
    },
    {
      "cell_type": "code",
      "execution_count": null,
      "metadata": {
        "id": "M7Ot_YYVDyJs"
      },
      "outputs": [],
      "source": [
        "A = [1,2,3,4,5,6,7]"
      ]
    },
    {
      "cell_type": "markdown",
      "metadata": {
        "id": "W9vxphRyERBV"
      },
      "source": [
        " 2.Column Matrix: A matrix with only one column\n"
      ]
    },
    {
      "cell_type": "markdown",
      "metadata": {
        "id": "qGtxKVmIEkqG"
      },
      "source": [
        " 3.Square Matrix: A matrix where the number of rows equals the number of columns"
      ]
    },
    {
      "cell_type": "markdown",
      "metadata": {
        "id": "jvSAOoEmEsdq"
      },
      "source": [
        " 4.Zero Matrix: A matrix in which all elements are zero."
      ]
    },
    {
      "cell_type": "markdown",
      "metadata": {
        "id": "WSKY-YsHEwCa"
      },
      "source": []
    },
    {
      "cell_type": "markdown",
      "metadata": {
        "id": "C53E3pZGE5um"
      },
      "source": [
        " 5.Identity Matrix: A square matrix with ones on the diagonal and zeros elsewhere, denoted as\n"
      ]
    },
    {
      "cell_type": "markdown",
      "metadata": {
        "id": "lQK_lt_iE-d2"
      },
      "source": [
        "6.Diagonal Matrix: A square matrix where all off-diagonal elements are zero.\n",
        "\n"
      ]
    },
    {
      "cell_type": "markdown",
      "metadata": {
        "id": "P9WyekUlFFzy"
      },
      "source": [
        "Operations on Matrices\n"
      ]
    },
    {
      "cell_type": "markdown",
      "metadata": {
        "id": "zEB9KGxXFG15"
      },
      "source": [
        "1.Addition and Subtraction: Two matrices of the same dimension can be added or subtracted by adding or subtracting their corresponding elements.\n",
        "\n"
      ]
    },
    {
      "cell_type": "markdown",
      "metadata": {
        "id": "uaZ14TtYFM0f"
      },
      "source": [
        "2.Scalar Multiplication: Each element of a matrix can be multiplied by a scalar  \n",
        "single number"
      ]
    },
    {
      "cell_type": "markdown",
      "metadata": {
        "id": "ibyrRAoSFWKu"
      },
      "source": [
        "3.Matrix Multiplication: The product of two matrices can be computed when the number of columns in the first matrix equals the number of rows in the second. The element in the resulting matrix is the dot product of the corresponding row and column.\n",
        "\n"
      ]
    },
    {
      "cell_type": "markdown",
      "metadata": {
        "id": "858aSU7VFaqx"
      },
      "source": [
        "4.Transpose: The transpose of a matrix\n",
        "A is formed by flipping it over its diagonal, converting rows into columns."
      ]
    },
    {
      "cell_type": "markdown",
      "metadata": {
        "id": "EZSwizizFk8r"
      },
      "source": [
        "Applications of Matrices\n"
      ]
    },
    {
      "cell_type": "markdown",
      "metadata": {
        "id": "EXZyWilsFl6D"
      },
      "source": [
        " 1.Linear Algebra: Matrices are central to solving systems of linear equations, represented **bold text**"
      ]
    },
    {
      "cell_type": "markdown",
      "metadata": {
        "id": "yFcMYJaaFyBx"
      },
      "source": [
        " 2.Computer Graphics: Matrices are used to perform transformations such as translation, rotation, and scaling of images.\n"
      ]
    },
    {
      "cell_type": "markdown",
      "metadata": {
        "id": "LaXbjg5aF5G2"
      },
      "source": [
        "3.Data Representation: In machine learning, matrices are used to represent datasets, with rows representing samples and columns representing features.\n",
        "\n"
      ]
    },
    {
      "cell_type": "markdown",
      "metadata": {
        "id": "KW3DDp_MF8LE"
      },
      "source": [
        "4.Graph Theory: Adjacency matrices represent relationships in graphs, with elements indicating the presence or absence of edges between nodes.\n",
        "\n"
      ]
    },
    {
      "cell_type": "code",
      "execution_count": null,
      "metadata": {
        "id": "Urn4-MljGpg9"
      },
      "outputs": [],
      "source": []
    },
    {
      "cell_type": "markdown",
      "metadata": {
        "id": "Ug0gtESEGF6D"
      },
      "source": [
        "3 ans.\n",
        "LinkedIn is a powerful professional networking platform that plays a crucial role in today’s job market and business environment. Here are some key aspects highlighting its importance:\n",
        "\n",
        " 1.Networking Opportunities\n",
        "\n",
        "LinkedIn allows users to connect with professionals across various industries, facilitating networking opportunities that can lead to collaborations, mentorships, and job referrals. Building a robust network is essential for career growth, and LinkedIn provides a platform to maintain and expand these connections.\n",
        "\n",
        "2. Job Search and Recruitment\n",
        "For job seekers, LinkedIn is an invaluable resource. Many companies post job openings directly on the platform, allowing users to apply easily. Additionally, LinkedIns algorithms can match users with relevant job opportunities based on their profiles and skills. Recruiters often use LinkedIn to search for potential candidates, making it vital for job seekers to maintain an updated and professional profile.\n",
        "\n",
        " 3. Personal Branding\n",
        "LinkedIn serves as a digital portfolio where users can showcase their skills, experience, and achievements. A well-crafted profile helps individuals establish their personal brand, enhancing their visibility to potential employers and clients. Sharing content, engaging in discussions, and posting articles can further elevate one’s professional presence.\n",
        "\n",
        "4. Industry Insights\n",
        "LinkedIn is also a hub for industry news and insights. Users can follow companies, join groups, and engage with thought leaders, staying informed about trends and developments in their fields. This knowledge can be crucial for professional development and making informed career decisions.\n",
        "\n",
        " 5. Skill Development\n",
        "The platform offers resources for continuous learning, including online courses and webinars through LinkedIn Learning. Users can enhance their skills and certifications, making them more competitive in the job market.\n"
      ]
    },
    {
      "cell_type": "markdown",
      "source": [
        "4 ans.\n",
        "\n",
        "Python object-oriented Programming OOPs is a programming paradigm that uses objects and classes in programming. It aims to implement real-world entities like inheritance, polymorphisms, encapsulation, etc. in the programming. The main concept of object-oriented Programming OOPs or oops concepts in Python is to bind the data and the functions that work together as a single unit so that no other part of the code can access this data"
      ],
      "metadata": {
        "id": "UaD3nvwaDh_B"
      }
    },
    {
      "cell_type": "markdown",
      "source": [
        "OOPs Concepts in Python\n",
        "\n",
        " 1. Class in Python\n",
        "\n",
        " 2. Objects in Python\n",
        "\n",
        " 3. Polymorphism in Python\n",
        "\n",
        " 4. Encapsulation in Python\n",
        "\n",
        " 5. Inheritance in Python\n",
        "\n",
        " 6. Data Abstraction in Python"
      ],
      "metadata": {
        "id": "UONKorbpDuUh"
      }
    },
    {
      "cell_type": "code",
      "execution_count": null,
      "metadata": {
        "id": "3bapNWfpEA8x"
      },
      "outputs": [],
      "source": [
        "class Person:\n",
        "    def __init__(self,name):\n",
        "        self.name=name\n",
        "\n",
        "    def display_info(self):\n",
        "        print(f\"Name is : {self.name}\")\n"
      ]
    },
    {
      "cell_type": "code",
      "source": [
        "class Student(Person):\n",
        "    def __init__(self,name,number):\n",
        "        super().__init__(name)\n",
        "        self.number=number\n",
        "\n",
        "    def display_info(self):\n",
        "        super().display_info()\n",
        "        print(f\"number is : {self.number}\")\n",
        "\n"
      ],
      "metadata": {
        "id": "VK5t7z3WJbxI"
      },
      "execution_count": null,
      "outputs": []
    },
    {
      "cell_type": "code",
      "source": [
        "student1= Student(\"Nitin\",\"7724\")\n",
        "student1.display_info()"
      ],
      "metadata": {
        "colab": {
          "base_uri": "https://localhost:8080/"
        },
        "id": "1yyRtw61JdqM",
        "outputId": "b3fcbc49-0258-44b6-cc79-61981c62b90f"
      },
      "execution_count": null,
      "outputs": [
        {
          "output_type": "stream",
          "name": "stdout",
          "text": [
            "Name is : Nitin\n",
            "Grade is : 7724\n"
          ]
        }
      ]
    },
    {
      "cell_type": "code",
      "source": [],
      "metadata": {
        "id": "9KFRc5skMi4_"
      },
      "execution_count": null,
      "outputs": []
    }
  ],
  "metadata": {
    "colab": {
      "provenance": []
    },
    "kernelspec": {
      "display_name": "Python 3",
      "name": "python3"
    },
    "language_info": {
      "name": "python"
    }
  },
  "nbformat": 4,
  "nbformat_minor": 0
}