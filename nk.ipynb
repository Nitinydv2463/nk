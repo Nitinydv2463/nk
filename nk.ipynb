{
  "nbformat": 4,
  "nbformat_minor": 0,
  "metadata": {
    "colab": {
      "provenance": []
    },
    "kernelspec": {
      "name": "python3",
      "display_name": "Python 3"
    },
    "language_info": {
      "name": "python"
    }
  },
  "cells": [
    {
      "cell_type": "code",
      "execution_count": null,
      "metadata": {
        "id": "mqR5gsOFR3P6"
      },
      "outputs": [],
      "source": [
        "# 1 ans\n",
        "class Person:\n",
        "    def __init__(self,name,age):\n",
        "        self.name=name\n",
        "        self.age=age\n",
        "\n",
        "    def introduce(self):\n",
        "        print(f\"Name is : {self.name}, and age is : {self.age}\")\n"
      ]
    },
    {
      "cell_type": "code",
      "source": [
        "person1=Person(\"nitin\",\"16\")\n",
        "person1.introduce()\n"
      ],
      "metadata": {
        "colab": {
          "base_uri": "https://localhost:8080/"
        },
        "id": "wZxpwH6KSCyk",
        "outputId": "0cf0ab78-f95a-4e00-df00-7d80f84e010b"
      },
      "execution_count": null,
      "outputs": [
        {
          "output_type": "stream",
          "name": "stdout",
          "text": [
            "Name is : nitin, and age is : 16\n"
          ]
        }
      ]
    },
    {
      "cell_type": "code",
      "source": [
        "# 2 ans\n",
        "class Car:\n",
        "  def __init__(self,brand,model):\n",
        "      self.brand=brand\n",
        "      self.model=model\n",
        "\n",
        "  def display_info(self):\n",
        "      print(f\"Brand is : {self.brand} , And Model is : {self.model}\")"
      ],
      "metadata": {
        "id": "SovR8ecmTBpK"
      },
      "execution_count": null,
      "outputs": []
    },
    {
      "cell_type": "code",
      "source": [
        "car1=Car(\"Thar\",\"mahindra\")\n",
        "car1.display_info()"
      ],
      "metadata": {
        "colab": {
          "base_uri": "https://localhost:8080/"
        },
        "id": "CLtzotauUbtR",
        "outputId": "7089a5cc-59d6-40ba-f861-80afc57339f8"
      },
      "execution_count": null,
      "outputs": [
        {
          "output_type": "stream",
          "name": "stdout",
          "text": [
            "Brand is : Thar , And Model is : mahindra\n"
          ]
        }
      ]
    },
    {
      "cell_type": "code",
      "source": [
        " # 3 ans\n",
        "class bankaccount:\n",
        "    def __init__(self,account_number,balance):\n",
        "        self.account_number=account_number\n",
        "        self.balance=balance\n",
        "\n",
        "    def display_balance(self):\n",
        "        print(f\"account number is : {self.account_number} , And balance is : {self.balance}\")"
      ],
      "metadata": {
        "id": "iYKcgfUKVBGs"
      },
      "execution_count": null,
      "outputs": []
    },
    {
      "cell_type": "code",
      "source": [
        "bankaccount1=bankaccount(\"161620\",\"2000000 lakh\")\n",
        "bankaccount1.display_balance()"
      ],
      "metadata": {
        "colab": {
          "base_uri": "https://localhost:8080/"
        },
        "id": "dG0rrxOJWtKk",
        "outputId": "01885744-0185-43b6-88f1-7128ece5b3b7"
      },
      "execution_count": null,
      "outputs": [
        {
          "output_type": "stream",
          "name": "stdout",
          "text": [
            "account number is : 161620 , And balance is : 2000000 lakh\n"
          ]
        }
      ]
    },
    {
      "cell_type": "code",
      "source": [
        " # 4 ans\n",
        "class mobilephone:\n",
        "    def __init__(self,brand,model):\n",
        "        self.brand=brand\n",
        "        self.model=model\n",
        "\n",
        "    def make_call(self):\n",
        "        print(f\"brand is : {self.brand} , and model is : {self.model}\")\n"
      ],
      "metadata": {
        "id": "lpb7yifOXFZb"
      },
      "execution_count": null,
      "outputs": []
    },
    {
      "cell_type": "code",
      "source": [
        "mobilephone1=mobilephone(\"samsung\",\"S25\")\n",
        "mobilephone1.make_call()"
      ],
      "metadata": {
        "colab": {
          "base_uri": "https://localhost:8080/"
        },
        "id": "6hlpi4cPZCU9",
        "outputId": "f48e7f13-cdb6-491d-e495-9c47da1737e4"
      },
      "execution_count": null,
      "outputs": [
        {
          "output_type": "stream",
          "name": "stdout",
          "text": [
            "brand is : samsung , and model is : S25\n"
          ]
        }
      ]
    },
    {
      "cell_type": "code",
      "source": [
        " # 5 ans\n",
        "class book:\n",
        "     def __init__(self,title,author):\n",
        "         self.title=title\n",
        "         self.author=author\n",
        "     def display_info(self):\n",
        "         print(f\"title is : {self.title} , and author is : {self.author}\")"
      ],
      "metadata": {
        "id": "CrYgYZsldWBC"
      },
      "execution_count": null,
      "outputs": []
    },
    {
      "cell_type": "code",
      "source": [
        "book1=book(\"The Cricket on the Hearth\",\"Charles Dickens\")\n",
        "book1.display_info()"
      ],
      "metadata": {
        "colab": {
          "base_uri": "https://localhost:8080/"
        },
        "id": "7pNcmxH7eRz4",
        "outputId": "e5b5e794-17be-4bca-8bc1-a9ff02f3b889"
      },
      "execution_count": null,
      "outputs": [
        {
          "output_type": "stream",
          "name": "stdout",
          "text": [
            "title is : The Cricket on the Hearth , and author is : Charles Dickens\n"
          ]
        }
      ]
    },
    {
      "cell_type": "code",
      "source": [
        " #  6 ans\n",
        "class vechicles:\n",
        "   def __init__(self,name,model,year):\n",
        "       self.name=name\n",
        "       self.model=model\n",
        "       self.year=year\n"
      ],
      "metadata": {
        "id": "US044-GCfFHP"
      },
      "execution_count": null,
      "outputs": []
    },
    {
      "cell_type": "code",
      "source": [
        "class car(vechicles):\n",
        "      def __init__(self,name,model,year):\n",
        "         self.name=name\n",
        "         self.model=model\n",
        "         self.year=year\n",
        "      def stop_engine(self):\n",
        "          print(f\"name is : {self.name} , model is : {self.model} , and year is : {self.year}\")\n",
        "\n",
        "      def start_engine(self):\n",
        "          print(f\"name is : {self.name} , model is : {self.model} , and year is : {self.year}\")"
      ],
      "metadata": {
        "id": "H510dpW9N3xr"
      },
      "execution_count": null,
      "outputs": []
    },
    {
      "cell_type": "code",
      "source": [
        "class motercycle(vechicles):\n",
        "\n",
        "      def __init__(self,name,model,year):\n",
        "         self.name=name\n",
        "         self.model=model\n",
        "         self.year=year\n",
        "      def stop_engine(self):\n",
        "          print(f\"name is : {self.name} , model is : {self.model} , and year is : {self.year}\")\n",
        "\n",
        "      def start_engine(self):\n",
        "          print(f\"name is : {self.name} , model is : {self.model} , and year is : {self.year}\")"
      ],
      "metadata": {
        "id": "VC1OWcADQee_"
      },
      "execution_count": null,
      "outputs": []
    },
    {
      "cell_type": "code",
      "source": [
        "car1=car(\"baleno\" , \"delta\" , \"2024\")\n",
        "car1.stop_engine()\n",
        "car1.start_engine()\n",
        "\n"
      ],
      "metadata": {
        "colab": {
          "base_uri": "https://localhost:8080/"
        },
        "id": "q8QQzXpiR_de",
        "outputId": "06fd7cae-694d-4718-a8a1-87c08bcfb27c"
      },
      "execution_count": null,
      "outputs": [
        {
          "output_type": "stream",
          "name": "stdout",
          "text": [
            "name is : baleno , model is : delta , and year is : 2024\n",
            "name is : baleno , model is : delta , and year is : 2024\n"
          ]
        }
      ]
    },
    {
      "cell_type": "code",
      "source": [
        "motercycle1=motercycle(\"hero\" , \"hf deluxe\" , \"2024\")\n",
        "motercycle1.stop_engine()\n",
        "motercycle1.start_engine()"
      ],
      "metadata": {
        "colab": {
          "base_uri": "https://localhost:8080/"
        },
        "id": "-lG8iUzKXD2C",
        "outputId": "1424018b-83c4-4342-a492-502a24ed6d10"
      },
      "execution_count": null,
      "outputs": [
        {
          "output_type": "stream",
          "name": "stdout",
          "text": [
            "name is : hero , model is : hf deluxe , and year is : 2024\n",
            "name is : hero , model is : hf deluxe , and year is : 2024\n"
          ]
        }
      ]
    },
    {
      "cell_type": "code",
      "source": [
        " # 7 ans\n",
        "class animals:\n",
        "    def __init__(self,eat,sleep):\n",
        "      self.eat=eat\n",
        "      self.sleep=sleep\n",
        "    def sound(self):\n",
        "        pass\n"
      ],
      "metadata": {
        "id": "kxXHZVVtSXS2"
      },
      "execution_count": null,
      "outputs": []
    },
    {
      "cell_type": "code",
      "source": [
        "class dog(animals):\n",
        "  def __init__(self,eat,sleep):\n",
        "      self.eat=eat\n",
        "      self.sleep=sleep\n",
        "  def brak(self):\n",
        "    print(f\" eat is : {self.eat}, and sleep is :  {self.sleep}\")"
      ],
      "metadata": {
        "id": "Sxg_yrD9Xzme"
      },
      "execution_count": null,
      "outputs": []
    },
    {
      "cell_type": "code",
      "source": [
        "class cat(animals):\n",
        "  def __init__(self,eat,sleep):\n",
        "    self.eat=eat\n",
        "    self.sleep=sleep\n",
        "  def meow(self):\n",
        "      print(f\" eat is : {self.eat}, and sleep is :{self.sleep}\")"
      ],
      "metadata": {
        "id": "_D7sie5Yc8w3"
      },
      "execution_count": null,
      "outputs": []
    },
    {
      "cell_type": "code",
      "source": [
        "dog1=dog(\"biscuit\" , \"at 12 am to 3 pm\")\n",
        "dog1.brak()"
      ],
      "metadata": {
        "colab": {
          "base_uri": "https://localhost:8080/"
        },
        "id": "YgMOFZo6dQdr",
        "outputId": "0fbe6e3f-70bd-4360-adf3-ab642f627c13"
      },
      "execution_count": null,
      "outputs": [
        {
          "output_type": "stream",
          "name": "stdout",
          "text": [
            " eat is : biscuit, and sleep is :  at 12 am to 3 pm\n"
          ]
        }
      ]
    },
    {
      "cell_type": "code",
      "source": [
        "cat1=cat(\"rat\" , \"4 hours\")\n",
        "cat1.meow()"
      ],
      "metadata": {
        "colab": {
          "base_uri": "https://localhost:8080/"
        },
        "id": "Zt5So2eIeGr2",
        "outputId": "256c3328-d339-4083-f75c-98fc9f98225d"
      },
      "execution_count": null,
      "outputs": [
        {
          "output_type": "stream",
          "name": "stdout",
          "text": [
            " eat is : rat, and sleep is :4 hours\n"
          ]
        }
      ]
    },
    {
      "cell_type": "code",
      "source": [
        " # 8 ans\n",
        "class libraryitem:\n",
        "      def __init__(self,title,author, publication_year):\n",
        "          self.title=title\n",
        "          self.author=author\n",
        "          self.publication_year=publication_year\n",
        "\n"
      ],
      "metadata": {
        "id": "NHwJN4sseneg"
      },
      "execution_count": null,
      "outputs": []
    },
    {
      "cell_type": "code",
      "source": [
        "class book:\n",
        "     def __init__(self,title,author, publication_year):\n",
        "          self.title=title\n",
        "          self.author=author\n",
        "          self.publication_year=publication_year\n",
        "     def checout(self):\n",
        "         print(f\"title is : {self.title}, author is : {self.author}, and publication_year : {self.publication_year} \")"
      ],
      "metadata": {
        "id": "XrohenBUhHBx"
      },
      "execution_count": null,
      "outputs": []
    },
    {
      "cell_type": "code",
      "source": [
        "class magazine:\n",
        "     def __init__(self,title,author, publication_year):\n",
        "          self.title=title\n",
        "          self.author=author\n",
        "          self.publication_year=publication_year\n",
        "     def return_item(self):\n",
        "         print(f\"title is : {self.title}, author is : {self.author}, and publication_year : {self.publication_year} \")"
      ],
      "metadata": {
        "id": "VmBauCJLiS0i"
      },
      "execution_count": null,
      "outputs": []
    },
    {
      "cell_type": "code",
      "source": [
        "book1=book(\"dance\" , \"Haruki Murakami\" , \"1994\")\n",
        "book1.checout()"
      ],
      "metadata": {
        "colab": {
          "base_uri": "https://localhost:8080/"
        },
        "id": "WW3WOC5JimlE",
        "outputId": "2e8cc4a0-55bd-4096-9704-642b1b7904e4"
      },
      "execution_count": null,
      "outputs": [
        {
          "output_type": "stream",
          "name": "stdout",
          "text": [
            "title is : dance, author is : Haruki Murakami, and publication_year : 1994 \n"
          ]
        }
      ]
    },
    {
      "cell_type": "code",
      "source": [
        "magazine1=magazine(\"The Daffodil Sky\" , \"H. E. Bates\" , \"1990\")\n",
        "magazine1.return_item()"
      ],
      "metadata": {
        "colab": {
          "base_uri": "https://localhost:8080/"
        },
        "id": "5n9iXmOri-b7",
        "outputId": "866d1c40-bb40-4720-ae7d-c8dba426b749"
      },
      "execution_count": null,
      "outputs": [
        {
          "output_type": "stream",
          "name": "stdout",
          "text": [
            "title is : The Daffodil Sky, author is : H. E. Bates, and publication_year : 1990 \n"
          ]
        }
      ]
    },
    {
      "cell_type": "code",
      "source": [
        " # 9 ans\n",
        "class employee:\n",
        "    def __init__(self,name,salary,department):\n",
        "        self.name=name\n",
        "        self.salary=salary\n",
        "        self.department=department\n",
        "\n"
      ],
      "metadata": {
        "id": "cSeXPogFkEV1"
      },
      "execution_count": null,
      "outputs": []
    },
    {
      "cell_type": "code",
      "source": [
        "class manager:\n",
        "     def __init__(self,name,salary,department):\n",
        "         self.name=name\n",
        "         self.salary=salary\n",
        "         self.department=department\n",
        "     def checkout(self):\n",
        "         print(f\"name is : {self.name} salary is : {self.salary} and department is : {self.department}\")"
      ],
      "metadata": {
        "id": "ezxAonVhlDhL"
      },
      "execution_count": null,
      "outputs": []
    },
    {
      "cell_type": "code",
      "source": [
        "class Staff:\n",
        "     def __init__(self,name,salary,department):\n",
        "         self.name=name\n",
        "         self.salary=salary\n",
        "         self.department=department\n",
        "     def return_item(self):\n",
        "         print(f\"name is : {self.name} salary is : {self.salary} and department is : {self.department}\")"
      ],
      "metadata": {
        "id": "d2hlol2XmAEu"
      },
      "execution_count": null,
      "outputs": []
    },
    {
      "cell_type": "code",
      "source": [
        "manager1=manager(\"nitin\",\"100000\",\"electricity\")\n",
        "manager1.checkout()"
      ],
      "metadata": {
        "colab": {
          "base_uri": "https://localhost:8080/"
        },
        "id": "an9LvdcYmHrI",
        "outputId": "5a826cc5-4c3a-4638-a451-2520bafc6924"
      },
      "execution_count": null,
      "outputs": [
        {
          "output_type": "stream",
          "name": "stdout",
          "text": [
            "name is : nitin salary is : 100000 and department is : electricity\n"
          ]
        }
      ]
    },
    {
      "cell_type": "code",
      "source": [
        "staff1=Staff(\"vipul\",\"50000\",\"fineance\")\n",
        "staff1.return_item()"
      ],
      "metadata": {
        "colab": {
          "base_uri": "https://localhost:8080/"
        },
        "id": "T4lOUwljm7_i",
        "outputId": "76a0a613-b7cb-45f3-ce53-9e48dd7719ef"
      },
      "execution_count": null,
      "outputs": [
        {
          "output_type": "stream",
          "name": "stdout",
          "text": [
            "name is : vipul salary is : 50000 and department is : fineance\n"
          ]
        }
      ]
    },
    {
      "cell_type": "code",
      "source": [
        " # 10 ans\n",
        "class bankaccount:\n",
        "     def __init__(self,account_number,balance):\n",
        "         self.account_number=account_number\n",
        "         self.balance=balance\n"
      ],
      "metadata": {
        "id": "x7Z9ApAKnGrT"
      },
      "execution_count": null,
      "outputs": []
    },
    {
      "cell_type": "code",
      "source": [
        "class  CheckingAccount:\n",
        "      def __init__(self,account_number,balance):\n",
        "          self.account_number=account_number\n",
        "          self.balance=balance\n",
        "      def withdraw(self):\n",
        "          print(f\"account_number is : {self.account_number} , and balance is : {self.balance}\")"
      ],
      "metadata": {
        "id": "39DRK5iLoxvK"
      },
      "execution_count": null,
      "outputs": []
    },
    {
      "cell_type": "code",
      "source": [
        "class  SavingsAccount:\n",
        "      def __init__(self,account_number,balance):\n",
        "          self.account_number=account_number\n",
        "          self.balance=balance\n",
        "      def deposit(self):\n",
        "          print(f\"account_number is : {self.account_number} , and balance is : {self.balance}\")"
      ],
      "metadata": {
        "id": "qZTRNw4Ap6xX"
      },
      "execution_count": null,
      "outputs": []
    },
    {
      "cell_type": "code",
      "source": [
        "checkingAccount=CheckingAccount(\"1234567\" , \"10000\")\n",
        "checkingAccount.withdraw()"
      ],
      "metadata": {
        "colab": {
          "base_uri": "https://localhost:8080/"
        },
        "id": "N4XZKoscqE23",
        "outputId": "d18d9000-c625-4b49-865c-1de8772c52c9"
      },
      "execution_count": null,
      "outputs": [
        {
          "output_type": "stream",
          "name": "stdout",
          "text": [
            "account_number is : 1234567 , and balance is : 10000\n"
          ]
        }
      ]
    },
    {
      "cell_type": "code",
      "source": [
        "SavingsAccount1=SavingsAccount(\"7742424\" , \"2000\")\n",
        "SavingsAccount1.deposit()"
      ],
      "metadata": {
        "colab": {
          "base_uri": "https://localhost:8080/"
        },
        "id": "SBSjFHUSq-U4",
        "outputId": "bfc9ce37-cb6d-40f4-f117-8d192f3f3344"
      },
      "execution_count": null,
      "outputs": [
        {
          "output_type": "stream",
          "name": "stdout",
          "text": [
            "account_number is : 7742424 , and balance is : 2000\n"
          ]
        }
      ]
    },
    {
      "cell_type": "code",
      "source": [
        " # 11 ans\n",
        "class person:\n",
        "     def __init__(self,name,age,address):\n",
        "         self.name=name\n",
        "         self.age=age\n",
        "         self.address=address"
      ],
      "metadata": {
        "id": "akwQRV84rQ75"
      },
      "execution_count": null,
      "outputs": []
    },
    {
      "cell_type": "code",
      "source": [
        "class Student:\n",
        "     def __init__(self,name,age,address):\n",
        "         self.name=name\n",
        "         self.age=age\n",
        "         self.address=address\n",
        "     def take_exam(self):\n",
        "         print(f\"name is : {self.name} , age is : {self.age} , and address is : {self.address}\")"
      ],
      "metadata": {
        "id": "_Ty4f_fosce8"
      },
      "execution_count": null,
      "outputs": []
    },
    {
      "cell_type": "code",
      "source": [
        "class Teacher:\n",
        "     def __init__(self,name,age,address):\n",
        "         self.name=name\n",
        "         self.age=age\n",
        "         self.address=address\n",
        "     def teach_subject(self):\n",
        "         print(f\"name is : {self.name} , age is : {self.age} , and address is : {self.address}\")"
      ],
      "metadata": {
        "id": "BqLVcYFrtrUz"
      },
      "execution_count": null,
      "outputs": []
    },
    {
      "cell_type": "code",
      "source": [
        "student1=Student(\"nitin\",\"17\",\"sihali\")\n",
        "student1.take_exam()"
      ],
      "metadata": {
        "colab": {
          "base_uri": "https://localhost:8080/"
        },
        "id": "ztXEli6It0YF",
        "outputId": "7bfbd62a-8b7c-40dc-f81a-de441c0e1262"
      },
      "execution_count": null,
      "outputs": [
        {
          "output_type": "stream",
          "name": "stdout",
          "text": [
            "name is : nitin , age is : 17 , and address is : sihali\n"
          ]
        }
      ]
    },
    {
      "cell_type": "code",
      "source": [
        "teacher1=Teacher(\"nitin\",\"17\",\"sihali\")\n",
        "teacher1.teach_subject()"
      ],
      "metadata": {
        "colab": {
          "base_uri": "https://localhost:8080/"
        },
        "id": "HU_SZtLwuS8_",
        "outputId": "8be1616f-ef04-4d45-f885-f48d467d993c"
      },
      "execution_count": null,
      "outputs": [
        {
          "output_type": "stream",
          "name": "stdout",
          "text": [
            "name is : nitin , age is : 17 , and address is : sihali\n"
          ]
        }
      ]
    },
    {
      "cell_type": "code",
      "source": [],
      "metadata": {
        "id": "7jS3FhgKvOTx"
      },
      "execution_count": null,
      "outputs": []
    }
  ]
}